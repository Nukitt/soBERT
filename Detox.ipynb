{
  "nbformat": 4,
  "nbformat_minor": 0,
  "metadata": {
    "colab": {
      "provenance": [],
      "include_colab_link": true
    },
    "kernelspec": {
      "name": "python3",
      "display_name": "Python 3"
    },
    "language_info": {
      "name": "python"
    }
  },
  "cells": [
    {
      "cell_type": "markdown",
      "metadata": {
        "id": "view-in-github",
        "colab_type": "text"
      },
      "source": [
        "<a href=\"https://colab.research.google.com/github/esh04/Detoxifier/blob/main/Detox.ipynb\" target=\"_parent\"><img src=\"https://colab.research.google.com/assets/colab-badge.svg\" alt=\"Open In Colab\"/></a>"
      ]
    },
    {
      "cell_type": "code",
      "source": [
        "!pip install transformers\n"
      ],
      "metadata": {
        "colab": {
          "base_uri": "https://localhost:8080/"
        },
        "id": "At-9kvkqeLKy",
        "outputId": "527bd7f2-ff29-45c7-ce5b-e3d9c2f97d30"
      },
      "execution_count": null,
      "outputs": [
        {
          "output_type": "stream",
          "name": "stdout",
          "text": [
            "Looking in indexes: https://pypi.org/simple, https://us-python.pkg.dev/colab-wheels/public/simple/\n",
            "Collecting transformers\n",
            "  Downloading transformers-4.23.1-py3-none-any.whl (5.3 MB)\n",
            "\u001b[K     |████████████████████████████████| 5.3 MB 5.3 MB/s \n",
            "\u001b[?25hRequirement already satisfied: importlib-metadata in /usr/local/lib/python3.7/dist-packages (from transformers) (4.13.0)\n",
            "Requirement already satisfied: filelock in /usr/local/lib/python3.7/dist-packages (from transformers) (3.8.0)\n",
            "Collecting tokenizers!=0.11.3,<0.14,>=0.11.1\n",
            "  Downloading tokenizers-0.13.1-cp37-cp37m-manylinux_2_17_x86_64.manylinux2014_x86_64.whl (7.6 MB)\n",
            "\u001b[K     |████████████████████████████████| 7.6 MB 58.1 MB/s \n",
            "\u001b[?25hRequirement already satisfied: tqdm>=4.27 in /usr/local/lib/python3.7/dist-packages (from transformers) (4.64.1)\n",
            "Requirement already satisfied: requests in /usr/local/lib/python3.7/dist-packages (from transformers) (2.23.0)\n",
            "Requirement already satisfied: regex!=2019.12.17 in /usr/local/lib/python3.7/dist-packages (from transformers) (2022.6.2)\n",
            "Collecting huggingface-hub<1.0,>=0.10.0\n",
            "  Downloading huggingface_hub-0.10.1-py3-none-any.whl (163 kB)\n",
            "\u001b[K     |████████████████████████████████| 163 kB 66.5 MB/s \n",
            "\u001b[?25hRequirement already satisfied: pyyaml>=5.1 in /usr/local/lib/python3.7/dist-packages (from transformers) (6.0)\n",
            "Requirement already satisfied: numpy>=1.17 in /usr/local/lib/python3.7/dist-packages (from transformers) (1.21.6)\n",
            "Requirement already satisfied: packaging>=20.0 in /usr/local/lib/python3.7/dist-packages (from transformers) (21.3)\n",
            "Requirement already satisfied: typing-extensions>=3.7.4.3 in /usr/local/lib/python3.7/dist-packages (from huggingface-hub<1.0,>=0.10.0->transformers) (4.1.1)\n",
            "Requirement already satisfied: pyparsing!=3.0.5,>=2.0.2 in /usr/local/lib/python3.7/dist-packages (from packaging>=20.0->transformers) (3.0.9)\n",
            "Requirement already satisfied: zipp>=0.5 in /usr/local/lib/python3.7/dist-packages (from importlib-metadata->transformers) (3.9.0)\n",
            "Requirement already satisfied: chardet<4,>=3.0.2 in /usr/local/lib/python3.7/dist-packages (from requests->transformers) (3.0.4)\n",
            "Requirement already satisfied: idna<3,>=2.5 in /usr/local/lib/python3.7/dist-packages (from requests->transformers) (2.10)\n",
            "Requirement already satisfied: certifi>=2017.4.17 in /usr/local/lib/python3.7/dist-packages (from requests->transformers) (2022.9.24)\n",
            "Requirement already satisfied: urllib3!=1.25.0,!=1.25.1,<1.26,>=1.21.1 in /usr/local/lib/python3.7/dist-packages (from requests->transformers) (1.24.3)\n",
            "Installing collected packages: tokenizers, huggingface-hub, transformers\n",
            "Successfully installed huggingface-hub-0.10.1 tokenizers-0.13.1 transformers-4.23.1\n"
          ]
        }
      ]
    },
    {
      "cell_type": "code",
      "execution_count": null,
      "metadata": {
        "id": "Vp4Z2uS8x_r1",
        "colab": {
          "base_uri": "https://localhost:8080/"
        },
        "outputId": "0cac7bf0-3256-464b-884a-e5970eb9e902"
      },
      "outputs": [
        {
          "output_type": "stream",
          "name": "stderr",
          "text": [
            "Some weights of the model checkpoint at SkolkovoInstitute/roberta_toxicity_classifier were not used when initializing RobertaForSequenceClassification: ['roberta.pooler.dense.weight', 'roberta.pooler.dense.bias']\n",
            "- This IS expected if you are initializing RobertaForSequenceClassification from the checkpoint of a model trained on another task or with another architecture (e.g. initializing a BertForSequenceClassification model from a BertForPreTraining model).\n",
            "- This IS NOT expected if you are initializing RobertaForSequenceClassification from the checkpoint of a model that you expect to be exactly identical (initializing a BertForSequenceClassification model from a BertForSequenceClassification model).\n"
          ]
        },
        {
          "output_type": "stream",
          "name": "stdout",
          "text": [
            "tensor([[   0, 6968,   32, 2770,    2]])\n",
            "SequenceClassifierOutput(loss=None, logits=tensor([[ 4.6567, -4.9115]], grad_fn=<AddmmBackward0>), hidden_states=None, attentions=None)\n",
            "tensor([[9.9993e-01, 6.9912e-05]], grad_fn=<SoftmaxBackward0>)\n",
            "tensor([[    0, 29902, 21068,    29,    32, 23584,     2]])\n",
            "SequenceClassifierOutput(loss=None, logits=tensor([[-3.7082,  3.5778]], grad_fn=<AddmmBackward0>), hidden_states=None, attentions=None)\n",
            "0.9993153810501099\n",
            "tensor([[   0, 1322,    2]])\n"
          ]
        }
      ],
      "source": [
        "from transformers import RobertaTokenizer, RobertaForSequenceClassification\n",
        "import torch\n",
        "import re\n",
        "\n",
        "# load tokenizer and model weights\n",
        "tokenizer = RobertaTokenizer.from_pretrained('SkolkovoInstitute/roberta_toxicity_classifier')\n",
        "model = RobertaForSequenceClassification.from_pretrained('SkolkovoInstitute/roberta_toxicity_classifier')\n",
        "\n",
        "# # # prepare the input\n",
        "# batch = tokenizer.encode('you are amazing', return_tensors='pt')\n",
        "# print(batch)\n",
        "# print(model(batch))\n",
        "# output = torch.nn.functional.softmax(model(batch).logits, dim = -1)\n",
        "# # inference\n",
        "# print(output)\n",
        "\n",
        "# batch = tokenizer.encode('these clowns are useless', return_tensors='pt')\n",
        "# print(batch)\n",
        "\n",
        "# # print(model.predict('you are of no use at all'))\n",
        "\n",
        "# print(model(batch))\n",
        "# output = torch.nn.functional.softmax(model(batch).logits, dim = -1)\n",
        "# print(float(output[0][1]))\n",
        "\n",
        "# batch = tokenizer.encode('are', return_tensors='pt')\n",
        "# print(batch)\n"
      ]
    },
    {
      "cell_type": "code",
      "source": [
        "def mask(sentence):\n",
        "  # for i in range(len(sentence)):\n",
        "  #   if (not sentence[i].isalpha()):\n",
        "  #     sentence[i]=' '\n",
        "  sentence = re.sub(r'[^a-zA-Z]', ' ', sentence)\n",
        "  \n",
        "  sentence = ' ' + sentence + ' '\n",
        "\n",
        "  sentence = sentence.split(' ')\n",
        "\n",
        "  # true_sent = []\n",
        "  # for i in sentence:\n",
        "  #   true_sent.append(i)\n",
        "  # true_sent = sentence\n",
        "  true_sent = sentence.copy()\n",
        "\n",
        "  # print(true_sent)\n",
        "  masked_sentence = ''\n",
        "  min_tox = 1\n",
        "  while True:\n",
        "    for i in range(len(sentence)):\n",
        "\n",
        "      # print('1:',i,sentence)\n",
        "      sentence[i] = '[MASK]'\n",
        "      # print('2:',i,sentence)\n",
        "      sentence = ' '.join(sentence)\n",
        "      batch = tokenizer.encode(sentence, return_tensors='pt')\n",
        "      output = torch.nn.functional.softmax(model(batch).logits, dim = -1)\n",
        "      toxic_score = float(output[0][1])\n",
        "      if min_tox > toxic_score:\n",
        "        min_tox = toxic_score\n",
        "        masked_sentence = sentence\n",
        "\n",
        "      # print('nvwubrb',true_sent)\n",
        "      sentence = true_sent.copy()\n",
        "\n",
        "    \n",
        "    if min_tox < 0.25:\n",
        "      break\n",
        "    \n",
        "    true_sent = masked_sentence\n",
        "    true_sent = true_sent.split(' ')\n",
        "  \n",
        "  return masked_sentence\n",
        "\n",
        "\n"
      ],
      "metadata": {
        "id": "3KTdo7C4pBgW"
      },
      "execution_count": null,
      "outputs": []
    },
    {
      "cell_type": "code",
      "source": [
        "sent = mask(\"hey loser , try this get a fucking life and stay out of mine , which you know nothing about \")\n",
        "batch = tokenizer.encode(sent, return_tensors ='pt')\n",
        "output = torch.nn.functional.softmax(model(batch).logits,dim = -1)\n",
        "print(output[0][1])\n",
        "print(sent)"
      ],
      "metadata": {
        "colab": {
          "base_uri": "https://localhost:8080/"
        },
        "id": "_hCOu7yCryCp",
        "outputId": "1c16a841-ab1b-4aed-f503-a01fdd722a4b"
      },
      "execution_count": null,
      "outputs": [
        {
          "output_type": "stream",
          "name": "stdout",
          "text": [
            "tensor(0.0528, grad_fn=<SelectBackward0>)\n",
            " hey [MASK]   try this get a [MASK] life and stay out of mine   which you know nothing about  \n"
          ]
        }
      ]
    }
  ]
}